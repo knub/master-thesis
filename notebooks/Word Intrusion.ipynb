{
 "cells": [
  {
   "cell_type": "code",
   "execution_count": 1,
   "metadata": {
    "ExecuteTime": {
     "end_time": "2016-11-30T20:37:45.721184",
     "start_time": "2016-11-30T20:37:41.821501"
    },
    "collapsed": false
   },
   "outputs": [
    {
     "name": "stderr",
     "output_type": "stream",
     "text": [
      "/opt/anaconda3/envs/py27/lib/python2.7/site-packages/sklearn/cross_validation.py:44: DeprecationWarning: This module was deprecated in version 0.18 in favor of the model_selection module into which all the refactored classes and functions are moved. Also note that the interface of the new CV iterators are different from that of this module. This module will be removed in 0.20.\n",
      "  \"This module will be removed in 0.20.\", DeprecationWarning)\n"
     ]
    }
   ],
   "source": [
    "%matplotlib notebook\n",
    "\n",
    "import itertools\n",
    "import logging\n",
    "from functools import partial\n",
    "from collections import defaultdict\n",
    "\n",
    "import gensim\n",
    "import matplotlib\n",
    "import matplotlib.pyplot as plt\n",
    "from matplotlib import colors as plt_colors\n",
    "import numpy as np\n",
    "import pandas as pnd\n",
    "import os\n",
    "from sklearn.cluster import *\n",
    "from sklearn.preprocessing import normalize\n",
    "from sklearn.cross_validation import train_test_split\n",
    "from sklearn.decomposition import PCA, RandomizedPCA\n",
    "from sklearn.manifold import TSNE\n",
    "from sklearn import svm, metrics\n",
    "from multiprocessing import Pool\n",
    "from knub.thesis.util import *\n",
    "\n",
    "pnd.set_option(\"display.max_colwidth\", 200)"
   ]
  },
  {
   "cell_type": "code",
   "execution_count": 2,
   "metadata": {
    "ExecuteTime": {
     "end_time": "2016-11-30T20:37:46.940288",
     "start_time": "2016-11-30T20:37:46.932836"
    },
    "collapsed": false
   },
   "outputs": [],
   "source": [
    "def evaluate_file(f):\n",
    "    df_file = pnd.read_csv(\"/home/knub/Repositories/master-thesis/webapp/out/\" + f, sep=\"\\t\", header=None)\n",
    "    df_file.columns = [\"inclusion_idx\", \"inclusion_id\", \"method\", \"words\", \"intruder\", \"selected_word\", \"successful\"]\n",
    "    for method, df_group in df_file.groupby(\"method\"):\n",
    "        nr_inclusions = len(df_group)\n",
    "        nr_succ = len(df_group[df_group.successful])\n",
    "        print \"%s: %.2f\" % (method, float(nr_succ) / nr_inclusions)"
   ]
  },
  {
   "cell_type": "code",
   "execution_count": null,
   "metadata": {
    "ExecuteTime": {
     "end_time": "2016-11-30T13:30:19.461219",
     "start_time": "2016-11-30T13:30:19.456976"
    },
    "collapsed": false
   },
   "outputs": [],
   "source": []
  },
  {
   "cell_type": "code",
   "execution_count": 3,
   "metadata": {
    "ExecuteTime": {
     "end_time": "2016-11-30T20:37:48.462367",
     "start_time": "2016-11-30T20:37:48.280140"
    },
    "collapsed": false
   },
   "outputs": [
    {
     "name": "stdout",
     "output_type": "stream",
     "text": [
      "20_stefan.txt\n",
      "20_lda: 0.65\n",
      "20_lflda: 0.60\n",
      "20_topicvec: 0.63\n",
      "20_welda-gaussian: 0.80\n",
      "20_welda-gaussian-mixture: 0.85\n",
      "\n",
      "20_tanja.txt\n",
      "20_lda: 0.70\n",
      "20_lflda: 0.40\n",
      "20_topicvec: 0.47\n",
      "20_welda-gaussian: 0.70\n",
      "20_welda-gaussian-mixture: 0.60\n",
      "\n",
      "dominik.txt\n",
      "lda: 0.68\n",
      "lflda: 0.74\n",
      "topicvec: 0.49\n",
      "welda-gaussian: 0.82\n",
      "\n",
      "joseph.txt\n",
      "lda: 0.40\n",
      "lflda: 0.68\n",
      "topicvec: 0.69\n",
      "welda-gaussian: 0.60\n",
      "\n",
      "julian.txt\n",
      "20_lda: 0.70\n",
      "20_lflda: 0.45\n",
      "20_topicvec: 0.74\n",
      "20_welda-gaussian: 0.67\n",
      "lflda: 0.44\n",
      "topicvec: 0.61\n",
      "welda-gaussian: 0.69\n",
      "\n",
      "stefan.txt\n",
      "lda: 0.54\n",
      "lflda: 0.72\n",
      "topicvec: 0.65\n",
      "welda-gaussian: 0.74\n",
      "welda-gaussian-mixture: 0.72\n",
      "\n",
      "tanja.txt\n",
      "lda: 0.48\n",
      "lflda: 0.70\n",
      "topicvec: 0.59\n",
      "welda-gaussian: 0.66\n",
      "welda-gaussian-mixture: 0.45\n",
      "\n"
     ]
    }
   ],
   "source": [
    "for f_name in sorted([f for f in os.listdir(\"../webapp/out\") if f.endswith(\".txt\")]):\n",
    "    print f_name\n",
    "    evaluate_file(f_name)\n",
    "    print"
   ]
  },
  {
   "cell_type": "code",
   "execution_count": null,
   "metadata": {
    "collapsed": true
   },
   "outputs": [],
   "source": []
  }
 ],
 "metadata": {
  "anaconda-cloud": {},
  "kernelspec": {
   "display_name": "Python [py27]",
   "language": "python",
   "name": "Python [py27]"
  },
  "language_info": {
   "codemirror_mode": {
    "name": "ipython",
    "version": 2
   },
   "file_extension": ".py",
   "mimetype": "text/x-python",
   "name": "python",
   "nbconvert_exporter": "python",
   "pygments_lexer": "ipython2",
   "version": "2.7.11"
  }
 },
 "nbformat": 4,
 "nbformat_minor": 0
}
