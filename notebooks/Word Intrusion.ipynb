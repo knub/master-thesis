{
 "cells": [
  {
   "cell_type": "code",
   "execution_count": 33,
   "metadata": {
    "ExecuteTime": {
     "end_time": "2016-12-01T12:59:05.399909",
     "start_time": "2016-12-01T12:59:05.389533"
    },
    "collapsed": false
   },
   "outputs": [],
   "source": [
    "%matplotlib notebook\n",
    "\n",
    "import itertools\n",
    "import logging\n",
    "from functools import partial\n",
    "from collections import defaultdict\n",
    "\n",
    "import gensim\n",
    "import matplotlib\n",
    "import matplotlib.pyplot as plt\n",
    "from matplotlib import colors as plt_colors\n",
    "import numpy as np\n",
    "import pandas as pnd\n",
    "import os\n",
    "from sklearn.cluster import *\n",
    "from sklearn.preprocessing import normalize\n",
    "from sklearn.cross_validation import train_test_split\n",
    "from sklearn.decomposition import PCA, RandomizedPCA\n",
    "from sklearn.manifold import TSNE\n",
    "from sklearn import svm, metrics\n",
    "from multiprocessing import Pool\n",
    "from knub.thesis.util import *\n",
    "\n",
    "pnd.set_option(\"display.max_colwidth\", 200)"
   ]
  },
  {
   "cell_type": "code",
   "execution_count": 34,
   "metadata": {
    "ExecuteTime": {
     "end_time": "2016-12-01T12:59:05.557697",
     "start_time": "2016-12-01T12:59:05.548242"
    },
    "collapsed": false
   },
   "outputs": [],
   "source": [
    "def evaluate_df(df_param, print_eval):\n",
    "    for method, df_group in df_param.groupby(\"method\"):\n",
    "        if \"mixture\" in method:\n",
    "            continue\n",
    "        nr_inclusions = len(df_group)\n",
    "        nr_succ = len(df_group[df_group.successful])\n",
    "        if print_eval:\n",
    "            print \"%s: %.2f\" % (method, float(nr_succ) / nr_inclusions)\n",
    "    \n",
    "def evaluate_file(f, print_eval=True):\n",
    "    df_file = pnd.read_csv(\"/home/knub/Repositories/master-thesis/webapp/out/\" + f, sep=\"\\t\", header=None)\n",
    "    df_file.columns = [\"inclusion_idx\", \"inclusion_id\", \"method\", \"words\", \"intruder\", \"selected_word\", \"successful\"]\n",
    "    evaluate_df(df_file, print_eval)\n",
    "    return df_file"
   ]
  },
  {
   "cell_type": "code",
   "execution_count": 35,
   "metadata": {
    "ExecuteTime": {
     "end_time": "2016-12-01T12:59:05.761954",
     "start_time": "2016-12-01T12:59:05.703209"
    },
    "collapsed": false
   },
   "outputs": [
    {
     "name": "stdout",
     "output_type": "stream",
     "text": [
      "20_stefan.txt\n",
      "20_lda: 0.65\n",
      "20_lflda: 0.60\n",
      "20_topicvec: 0.63\n",
      "20_welda-gaussian: 0.80\n",
      "\n",
      "20_tanja.txt\n",
      "20_lda: 0.70\n",
      "20_lflda: 0.40\n",
      "20_topicvec: 0.47\n",
      "20_welda-gaussian: 0.70\n",
      "\n",
      "dominik.txt\n",
      "lda: 0.68\n",
      "lflda: 0.74\n",
      "topicvec: 0.49\n",
      "welda-gaussian: 0.82\n",
      "\n",
      "joseph.txt\n",
      "lda: 0.40\n",
      "lflda: 0.68\n",
      "topicvec: 0.69\n",
      "welda-gaussian: 0.60\n",
      "\n",
      "julian.txt\n",
      "20_lda: 0.70\n",
      "20_lflda: 0.45\n",
      "20_topicvec: 0.74\n",
      "20_welda-gaussian: 0.65\n",
      "lflda: 0.44\n",
      "topicvec: 0.61\n",
      "welda-gaussian: 0.68\n",
      "\n",
      "stefan.txt\n",
      "lda: 0.54\n",
      "lflda: 0.72\n",
      "topicvec: 0.65\n",
      "welda-gaussian: 0.74\n",
      "\n",
      "tanja.txt\n",
      "lda: 0.48\n",
      "lflda: 0.70\n",
      "topicvec: 0.59\n",
      "welda-gaussian: 0.66\n",
      "\n"
     ]
    }
   ],
   "source": [
    "for f_name in sorted([f for f in os.listdir(\"../webapp/out\") if f.endswith(\".txt\")]):\n",
    "    print f_name\n",
    "    evaluate_file(f_name)\n",
    "    print"
   ]
  },
  {
   "cell_type": "code",
   "execution_count": 36,
   "metadata": {
    "ExecuteTime": {
     "end_time": "2016-12-01T12:59:06.381476",
     "start_time": "2016-12-01T12:59:06.368553"
    },
    "collapsed": false
   },
   "outputs": [
    {
     "name": "stdout",
     "output_type": "stream",
     "text": [
      "20_lda: 0.70\n",
      "20_lflda: 0.45\n",
      "20_topicvec: 0.74\n",
      "20_welda-gaussian: 0.65\n",
      "lflda: 0.44\n",
      "topicvec: 0.61\n",
      "welda-gaussian: 0.68\n"
     ]
    }
   ],
   "source": [
    "evaluate_file(\"julian.txt\");"
   ]
  },
  {
   "cell_type": "code",
   "execution_count": 37,
   "metadata": {
    "ExecuteTime": {
     "end_time": "2016-12-01T12:59:07.001811",
     "start_time": "2016-12-01T12:59:06.986743"
    },
    "collapsed": false
   },
   "outputs": [
    {
     "name": "stdout",
     "output_type": "stream",
     "text": [
      "lda: 0.68\n",
      "lflda: 0.74\n",
      "topicvec: 0.49\n",
      "welda-gaussian: 0.82\n"
     ]
    }
   ],
   "source": [
    "evaluate_file(\"dominik.txt\");"
   ]
  },
  {
   "cell_type": "markdown",
   "metadata": {},
   "source": [
    "**Evaluating all results**"
   ]
  },
  {
   "cell_type": "code",
   "execution_count": 38,
   "metadata": {
    "ExecuteTime": {
     "end_time": "2016-12-01T12:59:08.286404",
     "start_time": "2016-12-01T12:59:08.220611"
    },
    "collapsed": false
   },
   "outputs": [
    {
     "name": "stdout",
     "output_type": "stream",
     "text": [
      "20_lda: 0.68\n",
      "20_lflda: 0.48\n",
      "20_topicvec: 0.61\n",
      "20_welda-gaussian: 0.72\n",
      "lda: 0.53\n",
      "lflda: 0.66\n",
      "topicvec: 0.61\n",
      "welda-gaussian: 0.70\n"
     ]
    }
   ],
   "source": [
    "dfs = []\n",
    "for f_name in sorted([f for f in os.listdir(\"../webapp/out\") if f.endswith(\".txt\")]):\n",
    "    if \"mixture\" not in f_name:\n",
    "        dfs.append(evaluate_file(f_name, print_eval=False))\n",
    "\n",
    "evaluate_df(pnd.concat(dfs), print_eval=True)"
   ]
  },
  {
   "cell_type": "code",
   "execution_count": null,
   "metadata": {
    "collapsed": true
   },
   "outputs": [],
   "source": []
  }
 ],
 "metadata": {
  "anaconda-cloud": {},
  "kernelspec": {
   "display_name": "Python [py27]",
   "language": "python",
   "name": "Python [py27]"
  },
  "language_info": {
   "codemirror_mode": {
    "name": "ipython",
    "version": 2
   },
   "file_extension": ".py",
   "mimetype": "text/x-python",
   "name": "python",
   "nbconvert_exporter": "python",
   "pygments_lexer": "ipython2",
   "version": "2.7.11"
  }
 },
 "nbformat": 4,
 "nbformat_minor": 0
}
