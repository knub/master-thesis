{
 "cells": [
  {
   "cell_type": "code",
   "execution_count": 1,
   "metadata": {
    "collapsed": true
   },
   "outputs": [],
   "source": [
    "%matplotlib inline\n",
    "\n",
    "import numpy as np\n",
    "import gensim, logging\n",
    "import pandas as pnd\n",
    "from sklearn.manifold import TSNE\n",
    "from sklearn.decomposition import PCA\n",
    "import matplotlib.pyplot as plt\n",
    "import seaborn as sns"
   ]
  },
  {
   "cell_type": "code",
   "execution_count": 2,
   "metadata": {
    "collapsed": true
   },
   "outputs": [],
   "source": [
    "logging.basicConfig(format='%(asctime)s : %(levelname)s : %(message)s', level=logging.INFO)"
   ]
  },
  {
   "cell_type": "code",
   "execution_count": 3,
   "metadata": {
    "collapsed": false
   },
   "outputs": [],
   "source": [
    "WORD2VEC_VECTOR_FILE = \"/home/knub/Repositories/master-thesis/data/GoogleNews-vectors-negative300.bin\"\n",
    "GLOVE_VECTOR_FILE = \"/home/knub/Repositories/master-thesis/data/glove.6B.50d.txt\"\n",
    "# Three topics taken from original LDA paper by Blei et al.\n",
    "topics = [[\"school\", \"students\", \"schools\", \"education\", \"teachers\", \"high\", \"public\", \"teacher\", \"elementary\", \"president\"],\n",
    "          [\"million\", \"tax\", \"budget\", \"billion\", \"federal\", \"government\", \"spending\", \"state\", \"plan\", \"money\"],\n",
    "          [\"film\", \"show\", \"music\", \"movie\", \"play\", \"musical\", \"actor\", \"opera\", \"theater\", \"actress\"]]\n",
    "\n",
    "#word2vec = gensim.models.Word2Vec.load_word2vec_format(GLOVE_VECTOR_FILE, binary=False)\n",
    "word2vec = gensim.models.Word2Vec.load_word2vec_format(WORD2VEC_VECTOR_FILE, binary=True)\n",
    "vector_size = word2vec.vector_size"
   ]
  },
  {
   "cell_type": "code",
   "execution_count": 25,
   "metadata": {
    "collapsed": false
   },
   "outputs": [],
   "source": [
    "vectors = [np.array([word2vec[word] for word in topic]) for topic in topics]\n",
    "vectors = np.array(vectors)\n",
    "vectors = np.reshape(vectors, (30, vector_size))\n",
    "vectors = vectors * 100"
   ]
  },
  {
   "cell_type": "code",
   "execution_count": 26,
   "metadata": {
    "collapsed": false
   },
   "outputs": [],
   "source": [
    "# reduce dimensions\n",
    "pca = PCA(n_components=50)\n",
    "vectors = pca.fit_transform(vectors)\n",
    "\n",
    "tsne = TSNE(n_components=2)\n",
    "tsne_transform = tsne.fit_transform(vectors)"
   ]
  },
  {
   "cell_type": "code",
   "execution_count": 27,
   "metadata": {
    "collapsed": true
   },
   "outputs": [],
   "source": [
    "df = pnd.DataFrame(tsne_transform, columns=[\"x\", \"y\"])\n",
    "df[\"word\"] = [word for topic in topics for word in topic]\n",
    "df[\"topic\"] = [\"education\"] * 10 + [\"taxes\"] * 10 + [\"arts\"] * 10"
   ]
  },
  {
   "cell_type": "code",
   "execution_count": 28,
   "metadata": {
    "collapsed": false
   },
   "outputs": [
    {
     "data": {
      "text/plain": [
       "<seaborn.axisgrid.FacetGrid at 0x7f6b92ed0890>"
      ]
     },
     "execution_count": 28,
     "metadata": {},
     "output_type": "execute_result"
    },
    {
     "data": {
      "image/png": "[encoded data removed]",
      "text/plain": [
       "<matplotlib.figure.Figure at 0x7f6b92eb3590>"
      ]
     },
     "metadata": {},
     "output_type": "display_data"
    }
   ],
   "source": [
    "sns.lmplot(\"x\", \"y\", data=df, fit_reg=False, hue=\"topic\")"
   ]
  },
  {
   "cell_type": "code",
   "execution_count": null,
   "metadata": {
    "collapsed": true
   },
   "outputs": [],
   "source": []
  }
 ],
 "metadata": {
  "kernelspec": {
   "display_name": "Python 2",
   "language": "python",
   "name": "python2"
  },
  "language_info": {
   "codemirror_mode": {
    "name": "ipython",
    "version": 2
   },
   "file_extension": ".py",
   "mimetype": "text/x-python",
   "name": "python",
   "nbconvert_exporter": "python",
   "pygments_lexer": "ipython2",
   "version": "2.7.11"
  }
 },
 "nbformat": 4,
 "nbformat_minor": 0
}
