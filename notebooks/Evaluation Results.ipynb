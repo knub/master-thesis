{
 "cells": [
  {
   "cell_type": "code",
   "execution_count": 2,
   "metadata": {
    "ExecuteTime": {
     "end_time": "2016-07-20T09:37:07.525224",
     "start_time": "2016-07-20T09:37:06.368766"
    },
    "collapsed": true
   },
   "outputs": [],
   "source": [
    "%matplotlib notebook\n",
    "\n",
    "import itertools\n",
    "import logging\n",
    "from functools import partial\n",
    "\n",
    "import gensim\n",
    "import matplotlib\n",
    "import matplotlib.pyplot as plt\n",
    "import numpy as np\n",
    "import pandas as pnd\n",
    "from sklearn.cluster import *\n",
    "from sklearn.decomposition import PCA, RandomizedPCA\n",
    "from sklearn.manifold import TSNE\n",
    "\n",
    "from knub.thesis.util import *\n",
    "matplotlib.style.use('ggplot')"
   ]
  },
  {
   "cell_type": "code",
   "execution_count": 10,
   "metadata": {
    "ExecuteTime": {
     "end_time": "2016-07-20T09:39:02.508340",
     "start_time": "2016-07-20T09:39:02.502442"
    },
    "collapsed": true
   },
   "outputs": [],
   "source": [
    "pnd.set_option(\"display.max_colwidth\", 100)"
   ]
  },
  {
   "cell_type": "markdown",
   "metadata": {},
   "source": [
    "## Topic Models → Topic Coherence, Concept Categorization"
   ]
  },
  {
   "cell_type": "markdown",
   "metadata": {},
   "source": [
    "Evaluated using Palmetto tool from **Exploring the Space of Topic Coherence Measures** paper\n",
    "Values still seem low compared to example values from the paper"
   ]
  },
  {
   "cell_type": "code",
   "execution_count": 4,
   "metadata": {
    "ExecuteTime": {
     "end_time": "2016-07-19T14:19:49.704063",
     "start_time": "2016-07-19T14:19:49.696770"
    },
    "collapsed": false
   },
   "outputs": [],
   "source": [
    "df_tc_results = pnd.DataFrame([\n",
    "        (\"topic.full.alpha-1-100.256-400.model\", 0.469500859375, 0.00617111859067, 0.6463414634146342),\n",
    "        (\"topic.16-400.model\", 0.43805875, 0.00390183951094, 0.5975609756097561),\n",
    "        (\"topic.256-1000.model\", 0.473455351563, 0.00635883046394, 0.5853658536585366),\n",
    "        (\"topic.64-400.model\", 0.45327734375, 0.00385141007263, 0.6341463414634146),\n",
    "        (\"topic.256-400.model\", 0.46836359375, 0.00599032492068, 0.5731707317073171),\n",
    "        (\"topic.full.fixed-vocabulary.alpha-1-100.256-400.model\", 0.468437070312, 0.00562772603243, 0.5975609756097561),\n",
    "        (\"topic.full.256-400.model\", 0.472498945313, 0.00624853749772, 0.5975609756097561),\n",
    "        (\"topic.256-600.model\", 0.478640273437, 0.00685787139094, 0.5609756097560975)\n",
    "    ], \n",
    "    columns=[\"Topic model parameters\", \"TC_mean\", \"TC_var\", \"CC_purity\"])\n",
    "del df_tc_results[\"CC_purity\"]"
   ]
  },
  {
   "cell_type": "code",
   "execution_count": 5,
   "metadata": {
    "ExecuteTime": {
     "end_time": "2016-07-19T14:19:51.450940",
     "start_time": "2016-07-19T14:19:51.423324"
    },
    "collapsed": false
   },
   "outputs": [
    {
     "data": {
      "text/html": [
       "<div>\n",
       "<table border=\"1\" class=\"dataframe\">\n",
       "  <thead>\n",
       "    <tr style=\"text-align: right;\">\n",
       "      <th></th>\n",
       "      <th>Topic model parameters</th>\n",
       "      <th>TC_mean</th>\n",
       "      <th>TC_var</th>\n",
       "    </tr>\n",
       "  </thead>\n",
       "  <tbody>\n",
       "    <tr>\n",
       "      <th>7</th>\n",
       "      <td>topic.256-600.model</td>\n",
       "      <td>0.478640</td>\n",
       "      <td>0.006858</td>\n",
       "    </tr>\n",
       "    <tr>\n",
       "      <th>2</th>\n",
       "      <td>topic.256-1000.model</td>\n",
       "      <td>0.473455</td>\n",
       "      <td>0.006359</td>\n",
       "    </tr>\n",
       "    <tr>\n",
       "      <th>6</th>\n",
       "      <td>topic.full.256-400.model</td>\n",
       "      <td>0.472499</td>\n",
       "      <td>0.006249</td>\n",
       "    </tr>\n",
       "    <tr>\n",
       "      <th>0</th>\n",
       "      <td>topic.full.alpha-1-100.256-400.model</td>\n",
       "      <td>0.469501</td>\n",
       "      <td>0.006171</td>\n",
       "    </tr>\n",
       "    <tr>\n",
       "      <th>5</th>\n",
       "      <td>topic.full.fixed-vocabulary.alpha-1-100.256-40...</td>\n",
       "      <td>0.468437</td>\n",
       "      <td>0.005628</td>\n",
       "    </tr>\n",
       "    <tr>\n",
       "      <th>4</th>\n",
       "      <td>topic.256-400.model</td>\n",
       "      <td>0.468364</td>\n",
       "      <td>0.005990</td>\n",
       "    </tr>\n",
       "    <tr>\n",
       "      <th>3</th>\n",
       "      <td>topic.64-400.model</td>\n",
       "      <td>0.453277</td>\n",
       "      <td>0.003851</td>\n",
       "    </tr>\n",
       "    <tr>\n",
       "      <th>1</th>\n",
       "      <td>topic.16-400.model</td>\n",
       "      <td>0.438059</td>\n",
       "      <td>0.003902</td>\n",
       "    </tr>\n",
       "  </tbody>\n",
       "</table>\n",
       "</div>"
      ],
      "text/plain": [
       "                              Topic model parameters   TC_mean    TC_var\n",
       "7                                topic.256-600.model  0.478640  0.006858\n",
       "2                               topic.256-1000.model  0.473455  0.006359\n",
       "6                           topic.full.256-400.model  0.472499  0.006249\n",
       "0               topic.full.alpha-1-100.256-400.model  0.469501  0.006171\n",
       "5  topic.full.fixed-vocabulary.alpha-1-100.256-40...  0.468437  0.005628\n",
       "4                                topic.256-400.model  0.468364  0.005990\n",
       "3                                 topic.64-400.model  0.453277  0.003851\n",
       "1                                 topic.16-400.model  0.438059  0.003902"
      ]
     },
     "execution_count": 5,
     "metadata": {},
     "output_type": "execute_result"
    }
   ],
   "source": [
    "df_tc_results.sort_values(by=\"TC_mean\", ascending=False)"
   ]
  },
  {
   "cell_type": "code",
   "execution_count": 7,
   "metadata": {
    "ExecuteTime": {
     "end_time": "2016-07-19T14:19:59.564264",
     "start_time": "2016-07-19T14:19:59.547809"
    },
    "collapsed": false
   },
   "outputs": [
    {
     "data": {
      "text/html": [
       "<div>\n",
       "<table border=\"1\" class=\"dataframe\">\n",
       "  <thead>\n",
       "    <tr style=\"text-align: right;\">\n",
       "      <th></th>\n",
       "      <th>Topic model parameters</th>\n",
       "      <th>TC_mean</th>\n",
       "      <th>TC_var</th>\n",
       "    </tr>\n",
       "  </thead>\n",
       "  <tbody>\n",
       "    <tr>\n",
       "      <th>7</th>\n",
       "      <td>topic.256-600.model</td>\n",
       "      <td>0.478640</td>\n",
       "      <td>0.006858</td>\n",
       "    </tr>\n",
       "    <tr>\n",
       "      <th>2</th>\n",
       "      <td>topic.256-1000.model</td>\n",
       "      <td>0.473455</td>\n",
       "      <td>0.006359</td>\n",
       "    </tr>\n",
       "    <tr>\n",
       "      <th>6</th>\n",
       "      <td>topic.full.256-400.model</td>\n",
       "      <td>0.472499</td>\n",
       "      <td>0.006249</td>\n",
       "    </tr>\n",
       "    <tr>\n",
       "      <th>0</th>\n",
       "      <td>topic.full.alpha-1-100.256-400.model</td>\n",
       "      <td>0.469501</td>\n",
       "      <td>0.006171</td>\n",
       "    </tr>\n",
       "    <tr>\n",
       "      <th>4</th>\n",
       "      <td>topic.256-400.model</td>\n",
       "      <td>0.468364</td>\n",
       "      <td>0.005990</td>\n",
       "    </tr>\n",
       "    <tr>\n",
       "      <th>5</th>\n",
       "      <td>topic.full.fixed-vocabulary.alpha-1-100.256-40...</td>\n",
       "      <td>0.468437</td>\n",
       "      <td>0.005628</td>\n",
       "    </tr>\n",
       "    <tr>\n",
       "      <th>1</th>\n",
       "      <td>topic.16-400.model</td>\n",
       "      <td>0.438059</td>\n",
       "      <td>0.003902</td>\n",
       "    </tr>\n",
       "    <tr>\n",
       "      <th>3</th>\n",
       "      <td>topic.64-400.model</td>\n",
       "      <td>0.453277</td>\n",
       "      <td>0.003851</td>\n",
       "    </tr>\n",
       "  </tbody>\n",
       "</table>\n",
       "</div>"
      ],
      "text/plain": [
       "                              Topic model parameters   TC_mean    TC_var\n",
       "7                                topic.256-600.model  0.478640  0.006858\n",
       "2                               topic.256-1000.model  0.473455  0.006359\n",
       "6                           topic.full.256-400.model  0.472499  0.006249\n",
       "0               topic.full.alpha-1-100.256-400.model  0.469501  0.006171\n",
       "4                                topic.256-400.model  0.468364  0.005990\n",
       "5  topic.full.fixed-vocabulary.alpha-1-100.256-40...  0.468437  0.005628\n",
       "1                                 topic.16-400.model  0.438059  0.003902\n",
       "3                                 topic.64-400.model  0.453277  0.003851"
      ]
     },
     "execution_count": 7,
     "metadata": {},
     "output_type": "execute_result"
    }
   ],
   "source": [
    "df_tc_results.sort_values(by=\"TC_var\", ascending=False)"
   ]
  },
  {
   "cell_type": "code",
   "execution_count": 12,
   "metadata": {
    "ExecuteTime": {
     "end_time": "2016-07-21T13:14:56.751077",
     "start_time": "2016-07-21T13:14:56.445234"
    },
    "collapsed": false
   },
   "outputs": [
    {
     "data": {
      "text/html": [
       "<div>\n",
       "<table border=\"1\" class=\"dataframe\">\n",
       "  <thead>\n",
       "    <tr style=\"text-align: right;\">\n",
       "      <th></th>\n",
       "      <th>model</th>\n",
       "      <th>TC_mean</th>\n",
       "      <th>TC_var</th>\n",
       "    </tr>\n",
       "  </thead>\n",
       "  <tbody>\n",
       "    <tr>\n",
       "      <th>8</th>\n",
       "      <td>topic.256-400.first-2000.alpha-0-1.beta-0-1.model.ssv</td>\n",
       "      <td>0.495</td>\n",
       "      <td>0.095</td>\n",
       "    </tr>\n",
       "    <tr>\n",
       "      <th>5</th>\n",
       "      <td>topic.256-400.first-2000.alpha-0-01.beta-0-1.model.ssv</td>\n",
       "      <td>0.494</td>\n",
       "      <td>0.093</td>\n",
       "    </tr>\n",
       "    <tr>\n",
       "      <th>2</th>\n",
       "      <td>topic.256-400.first-2000.alpha-0-002.beta-0-1.model.ssv</td>\n",
       "      <td>0.478</td>\n",
       "      <td>0.084</td>\n",
       "    </tr>\n",
       "    <tr>\n",
       "      <th>7</th>\n",
       "      <td>topic.256-400.first-2000.alpha-0-1.beta-0-01.model.ssv</td>\n",
       "      <td>0.476</td>\n",
       "      <td>0.086</td>\n",
       "    </tr>\n",
       "    <tr>\n",
       "      <th>4</th>\n",
       "      <td>topic.256-400.first-2000.alpha-0-01.beta-0-01.model.ssv</td>\n",
       "      <td>0.475</td>\n",
       "      <td>0.083</td>\n",
       "    </tr>\n",
       "    <tr>\n",
       "      <th>6</th>\n",
       "      <td>topic.256-400.first-2000.alpha-0-1.beta-0-002.model.ssv</td>\n",
       "      <td>0.475</td>\n",
       "      <td>0.083</td>\n",
       "    </tr>\n",
       "    <tr>\n",
       "      <th>0</th>\n",
       "      <td>topic.256-400.first-2000.alpha-0-002.beta-0-002.model.ssv</td>\n",
       "      <td>0.470</td>\n",
       "      <td>0.079</td>\n",
       "    </tr>\n",
       "    <tr>\n",
       "      <th>1</th>\n",
       "      <td>topic.256-400.first-2000.alpha-0-002.beta-0-01.model.ssv</td>\n",
       "      <td>0.470</td>\n",
       "      <td>0.079</td>\n",
       "    </tr>\n",
       "    <tr>\n",
       "      <th>3</th>\n",
       "      <td>topic.256-400.first-2000.alpha-0-01.beta-0-002.model.ssv</td>\n",
       "      <td>0.469</td>\n",
       "      <td>0.079</td>\n",
       "    </tr>\n",
       "    <tr>\n",
       "      <th>9</th>\n",
       "      <td>embedding.model.skip-gram.ssv</td>\n",
       "      <td>0.466</td>\n",
       "      <td>0.123</td>\n",
       "    </tr>\n",
       "    <tr>\n",
       "      <th>10</th>\n",
       "      <td>embedding.model.cbow.ssv</td>\n",
       "      <td>0.433</td>\n",
       "      <td>0.067</td>\n",
       "    </tr>\n",
       "  </tbody>\n",
       "</table>\n",
       "</div>"
      ],
      "text/plain": [
       "                                                        model  TC_mean  TC_var\n",
       "8       topic.256-400.first-2000.alpha-0-1.beta-0-1.model.ssv    0.495   0.095\n",
       "5      topic.256-400.first-2000.alpha-0-01.beta-0-1.model.ssv    0.494   0.093\n",
       "2     topic.256-400.first-2000.alpha-0-002.beta-0-1.model.ssv    0.478   0.084\n",
       "7      topic.256-400.first-2000.alpha-0-1.beta-0-01.model.ssv    0.476   0.086\n",
       "4     topic.256-400.first-2000.alpha-0-01.beta-0-01.model.ssv    0.475   0.083\n",
       "6     topic.256-400.first-2000.alpha-0-1.beta-0-002.model.ssv    0.475   0.083\n",
       "0   topic.256-400.first-2000.alpha-0-002.beta-0-002.model.ssv    0.470   0.079\n",
       "1    topic.256-400.first-2000.alpha-0-002.beta-0-01.model.ssv    0.470   0.079\n",
       "3    topic.256-400.first-2000.alpha-0-01.beta-0-002.model.ssv    0.469   0.079\n",
       "9                               embedding.model.skip-gram.ssv    0.466   0.123\n",
       "10                                   embedding.model.cbow.ssv    0.433   0.067"
      ]
     },
     "execution_count": 12,
     "metadata": {},
     "output_type": "execute_result"
    }
   ],
   "source": [
    "df_tc_results_2 = pnd.read_csv(\"../models/topic_models_coherence_2.tsv\", sep=\"\\t\", index_col=None)\n",
    "df_tc_results_2.sort_values(by=\"TC_mean\", ascending=False)"
   ]
  },
  {
   "cell_type": "markdown",
   "metadata": {},
   "source": [
    "## Word Embeddings → Analogy Reasoning"
   ]
  },
  {
   "cell_type": "markdown",
   "metadata": {},
   "source": [
    "### Using manual set parameters"
   ]
  },
  {
   "cell_type": "markdown",
   "metadata": {},
   "source": [
    "Using the question word data set (~19k questions) from **Efficient Estimation of Word Representations in Vector Space** (word2vec)."
   ]
  },
  {
   "cell_type": "code",
   "execution_count": 8,
   "metadata": {
    "ExecuteTime": {
     "end_time": "2016-07-19T14:22:05.601342",
     "start_time": "2016-07-19T14:22:05.589656"
    },
    "collapsed": false
   },
   "outputs": [
    {
     "data": {
      "text/html": [
       "<div>\n",
       "<table border=\"1\" class=\"dataframe\">\n",
       "  <thead>\n",
       "    <tr style=\"text-align: right;\">\n",
       "      <th></th>\n",
       "      <th>Word Embeddings</th>\n",
       "      <th>Analogy_Reasoning</th>\n",
       "    </tr>\n",
       "  </thead>\n",
       "  <tbody>\n",
       "    <tr>\n",
       "      <th>2</th>\n",
       "      <td>embedding.google.size-300</td>\n",
       "      <td>0.735878</td>\n",
       "    </tr>\n",
       "    <tr>\n",
       "      <th>0</th>\n",
       "      <td>embedding.skip-gram.size-200.window-5.negative...</td>\n",
       "      <td>0.481222</td>\n",
       "    </tr>\n",
       "    <tr>\n",
       "      <th>1</th>\n",
       "      <td>embedding.cbow.size-200.window-5.model</td>\n",
       "      <td>0.416547</td>\n",
       "    </tr>\n",
       "  </tbody>\n",
       "</table>\n",
       "</div>"
      ],
      "text/plain": [
       "                                     Word Embeddings  Analogy_Reasoning\n",
       "2                          embedding.google.size-300           0.735878\n",
       "0  embedding.skip-gram.size-200.window-5.negative...           0.481222\n",
       "1             embedding.cbow.size-200.window-5.model           0.416547"
      ]
     },
     "execution_count": 8,
     "metadata": {},
     "output_type": "execute_result"
    }
   ],
   "source": [
    "df_ar_results = pnd.DataFrame([\n",
    "        (\"embedding.skip-gram.size-200.window-5.negative-5.model\", 0.481221858371),\n",
    "        (\"embedding.cbow.size-200.window-5.model\", 0.416547277937),\n",
    "        (\"embedding.google.size-300\", 0.735878018829),\n",
    "    ], \n",
    "    columns=[\"Word Embeddings\", \"Analogy_Reasoning\"])\n",
    "\n",
    "df_ar_results.sort_values(by=\"Analogy_Reasoning\", ascending=False)"
   ]
  },
  {
   "cell_type": "markdown",
   "metadata": {},
   "source": [
    "### Using Spearmint"
   ]
  },
  {
   "cell_type": "markdown",
   "metadata": {},
   "source": [
    "Testing only skip-gram architecture."
   ]
  },
  {
   "cell_type": "code",
   "execution_count": 12,
   "metadata": {
    "ExecuteTime": {
     "end_time": "2016-07-19T14:31:09.182213",
     "start_time": "2016-07-19T14:31:09.166956"
    },
    "collapsed": false
   },
   "outputs": [
    {
     "data": {
      "text/html": [
       "<div>\n",
       "<table border=\"1\" class=\"dataframe\">\n",
       "  <thead>\n",
       "    <tr style=\"text-align: right;\">\n",
       "      <th></th>\n",
       "      <th>sample</th>\n",
       "      <th>window</th>\n",
       "      <th>negative</th>\n",
       "      <th>size</th>\n",
       "      <th>Analogy_Reasoning</th>\n",
       "    </tr>\n",
       "    <tr>\n",
       "      <th>model</th>\n",
       "      <th></th>\n",
       "      <th></th>\n",
       "      <th></th>\n",
       "      <th></th>\n",
       "      <th></th>\n",
       "    </tr>\n",
       "  </thead>\n",
       "  <tbody>\n",
       "    <tr>\n",
       "      <th>4</th>\n",
       "      <td>0.010000</td>\n",
       "      <td>8</td>\n",
       "      <td>18</td>\n",
       "      <td>476</td>\n",
       "      <td>0.713262</td>\n",
       "    </tr>\n",
       "    <tr>\n",
       "      <th>5</th>\n",
       "      <td>0.000004</td>\n",
       "      <td>6</td>\n",
       "      <td>20</td>\n",
       "      <td>600</td>\n",
       "      <td>0.712955</td>\n",
       "    </tr>\n",
       "    <tr>\n",
       "      <th>3</th>\n",
       "      <td>0.005000</td>\n",
       "      <td>5</td>\n",
       "      <td>12</td>\n",
       "      <td>325</td>\n",
       "      <td>0.707941</td>\n",
       "    </tr>\n",
       "    <tr>\n",
       "      <th>1</th>\n",
       "      <td>0.000000</td>\n",
       "      <td>3</td>\n",
       "      <td>5</td>\n",
       "      <td>50</td>\n",
       "      <td>0.384977</td>\n",
       "    </tr>\n",
       "  </tbody>\n",
       "</table>\n",
       "</div>"
      ],
      "text/plain": [
       "         sample  window  negative  size  Analogy_Reasoning\n",
       "model                                                     \n",
       "4      0.010000       8        18   476           0.713262\n",
       "5      0.000004       6        20   600           0.712955\n",
       "3      0.005000       5        12   325           0.707941\n",
       "1      0.000000       3         5    50           0.384977"
      ]
     },
     "execution_count": 12,
     "metadata": {},
     "output_type": "execute_result"
    }
   ],
   "source": [
    "df_ar_spearmint_results = pnd.read_csv(\"../code/python/knub/thesis/spearmint_analogy_reasoning/results.csv\", index_col=\"model\")\n",
    "df_ar_spearmint_results.sort_values(by=\"Analogy_Reasoning\", ascending=False)"
   ]
  }
 ],
 "metadata": {
  "anaconda-cloud": {},
  "kernelspec": {
   "display_name": "Python [py27]",
   "language": "python",
   "name": "Python [py27]"
  },
  "language_info": {
   "codemirror_mode": {
    "name": "ipython",
    "version": 2
   },
   "file_extension": ".py",
   "mimetype": "text/x-python",
   "name": "python",
   "nbconvert_exporter": "python",
   "pygments_lexer": "ipython2",
   "version": "2.7.11"
  }
 },
 "nbformat": 4,
 "nbformat_minor": 0
}
