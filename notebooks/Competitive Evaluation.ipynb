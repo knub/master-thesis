{
 "cells": [
  {
   "cell_type": "markdown",
   "metadata": {},
   "source": [
    "# Competitive Evaluation"
   ]
  },
  {
   "cell_type": "code",
   "execution_count": 1,
   "metadata": {
    "ExecuteTime": {
     "end_time": "2016-09-05T17:10:34.952044",
     "start_time": "2016-09-05T17:10:33.779825"
    },
    "collapsed": true
   },
   "outputs": [],
   "source": [
    "%matplotlib notebook\n",
    "\n",
    "import itertools\n",
    "import logging\n",
    "from functools import partial\n",
    "\n",
    "import gensim\n",
    "import matplotlib\n",
    "import matplotlib.pyplot as plt\n",
    "import numpy as np\n",
    "import pandas as pnd\n",
    "from sklearn.cluster import *\n",
    "from sklearn.decomposition import PCA, RandomizedPCA\n",
    "from sklearn.manifold import TSNE\n",
    "\n",
    "from knub.thesis.util import *\n",
    "matplotlib.style.use('ggplot')"
   ]
  },
  {
   "cell_type": "markdown",
   "metadata": {},
   "source": [
    "## Document Classification"
   ]
  },
  {
   "cell_type": "code",
   "execution_count": null,
   "metadata": {
    "collapsed": true
   },
   "outputs": [],
   "source": [
    "for df_concept in [df_we_concept, df_tm_concept]:\n",
    "    print \"-\" * 100\n",
    "    for clustering in [KMeans(n_clusters=10, init=\"k-means++\", n_jobs=1),\n",
    "                       AgglomerativeClustering(n_clusters=10, linkage=\"ward\"),\n",
    "                       AgglomerativeClustering(n_clusters=10, linkage=\"complete\"),\n",
    "                       AgglomerativeClustering(n_clusters=10, linkage=\"average\"),\n",
    "                       AffinityPropagation(damping=0.5),\n",
    "                       AffinityPropagation(damping=0.6),\n",
    "                       AffinityPropagation(damping=0.7),\n",
    "                       AffinityPropagation(damping=0.8),\n",
    "                       AffinityPropagation(damping=0.9),\n",
    "                   SpectralClustering(n_clusters=3)]:\n",
    "        print clustering.__class__.__name__\n",
    "        print evaluate_clustering_algorithm(df_concept, clustering)"
   ]
  },
  {
   "cell_type": "markdown",
   "metadata": {},
   "source": [
    "## Topic Coherence"
   ]
  },
  {
   "cell_type": "markdown",
   "metadata": {
    "ExecuteTime": {
     "end_time": "2016-09-05T17:32:50.252726",
     "start_time": "2016-09-05T17:32:50.248837"
    }
   },
   "source": [
    "### LFTM"
   ]
  },
  {
   "cell_type": "markdown",
   "metadata": {},
   "source": [
    "### TopicVec"
   ]
  },
  {
   "cell_type": "markdown",
   "metadata": {
    "ExecuteTime": {
     "end_time": "2016-09-05T17:38:15.073300",
     "start_time": "2016-09-05T17:38:15.070082"
    }
   },
   "source": [
    "**Parameters**:\n",
    "\n",
    "* number of topic dimensions\n",
    "* beta"
   ]
  },
  {
   "cell_type": "markdown",
   "metadata": {},
   "source": [
    "#### Against Iterations"
   ]
  },
  {
   "cell_type": "code",
   "execution_count": null,
   "metadata": {
    "collapsed": true
   },
   "outputs": [],
   "source": []
  },
  {
   "cell_type": "markdown",
   "metadata": {
    "ExecuteTime": {
     "end_time": "2016-09-05T17:38:51.322396",
     "start_time": "2016-09-05T17:38:51.318715"
    }
   },
   "source": [
    "#### Against topic models"
   ]
  },
  {
   "cell_type": "code",
   "execution_count": null,
   "metadata": {
    "collapsed": true
   },
   "outputs": [],
   "source": []
  },
  {
   "cell_type": "markdown",
   "metadata": {},
   "source": [
    "### Gaussian LDA"
   ]
  },
  {
   "cell_type": "markdown",
   "metadata": {
    "ExecuteTime": {
     "end_time": "2016-09-05T17:45:47.597462",
     "start_time": "2016-09-05T17:45:47.592802"
    }
   },
   "source": [
    "**Learning problem** was the number of dimensions\n",
    "\n",
    "> Yes, I have a feeling, I ran the experiments on 50 dimensional vectors.\n",
    "> I am a little sad that it does not work for higher dimensional embeddings, but clearly there is something interesting going on which might give some insights about the structure of the space. Can you point me to the topics for D = {50, 200}.\n"
   ]
  },
  {
   "cell_type": "markdown",
   "metadata": {
    "ExecuteTime": {
     "end_time": "2016-09-05T17:54:31.517597",
     "start_time": "2016-09-05T17:54:31.514603"
    }
   },
   "source": [
    "## TODO"
   ]
  },
  {
   "cell_type": "markdown",
   "metadata": {
    "ExecuteTime": {
     "end_time": "2016-09-05T17:54:39.510300",
     "start_time": "2016-09-05T17:54:39.506275"
    }
   },
   "source": [
    "* Google embeddings"
   ]
  },
  {
   "cell_type": "code",
   "execution_count": null,
   "metadata": {
    "collapsed": true
   },
   "outputs": [],
   "source": []
  }
 ],
 "metadata": {
  "anaconda-cloud": {},
  "kernelspec": {
   "display_name": "Python [py27]",
   "language": "python",
   "name": "Python [py27]"
  },
  "language_info": {
   "codemirror_mode": {
    "name": "ipython",
    "version": 2
   },
   "file_extension": ".py",
   "mimetype": "text/x-python",
   "name": "python",
   "nbconvert_exporter": "python",
   "pygments_lexer": "ipython2",
   "version": "2.7.11"
  }
 },
 "nbformat": 4,
 "nbformat_minor": 0
}
